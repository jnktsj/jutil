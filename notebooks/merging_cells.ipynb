{
 "cells": [
  {
   "cell_type": "markdown",
   "id": "edb5a277",
   "metadata": {},
   "source": [
    "# Merging tumor cohort single cell data"
   ]
  },
  {
   "cell_type": "code",
   "execution_count": 1,
   "id": "5257f815",
   "metadata": {},
   "outputs": [],
   "source": [
    "import numpy as np\n",
    "import pandas as pd\n",
    "import scanpy as sc\n",
    "import h5py"
   ]
  },
  {
   "cell_type": "markdown",
   "id": "e3fcbbe6",
   "metadata": {},
   "source": [
    "## mount cellbender bucket"
   ]
  },
  {
   "cell_type": "code",
   "execution_count": null,
   "id": "1fdea3ab",
   "metadata": {},
   "outputs": [],
   "source": [
    "!gcsfuse --implicit-dirs htan-mbc-cga-data ~/htan-data/"
   ]
  }
 ],
 "metadata": {
  "kernelspec": {
   "display_name": "Python 3 (ipykernel)",
   "language": "python",
   "name": "python3"
  },
  "language_info": {
   "codemirror_mode": {
    "name": "ipython",
    "version": 3
   },
   "file_extension": ".py",
   "mimetype": "text/x-python",
   "name": "python",
   "nbconvert_exporter": "python",
   "pygments_lexer": "ipython3",
   "version": "3.8.10"
  }
 },
 "nbformat": 4,
 "nbformat_minor": 5
}
